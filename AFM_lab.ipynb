{
 "cells": [
  {
   "cell_type": "code",
   "execution_count": 64,
   "id": "1348b95a",
   "metadata": {},
   "outputs": [],
   "source": [
    "import pandas as pd\n",
    "\n",
    "file = '/home/nkureev/Cells_for_AFM.tsv'\n",
    "data = pd.read_csv(file, sep='\\t')"
   ]
  },
  {
   "cell_type": "code",
   "execution_count": 65,
   "id": "c83b6497",
   "metadata": {},
   "outputs": [
    {
     "data": {
      "text/plain": [
       "44"
      ]
     },
     "execution_count": 65,
     "metadata": {},
     "output_type": "execute_result"
    }
   ],
   "source": [
    "len(data)"
   ]
  },
  {
   "cell_type": "code",
   "execution_count": 66,
   "id": "3a5d431d",
   "metadata": {},
   "outputs": [],
   "source": [
    "data = data.dropna()"
   ]
  },
  {
   "cell_type": "code",
   "execution_count": 67,
   "id": "e4d8f498",
   "metadata": {},
   "outputs": [
    {
     "data": {
      "text/plain": [
       "38"
      ]
     },
     "execution_count": 67,
     "metadata": {},
     "output_type": "execute_result"
    }
   ],
   "source": [
    "len(data)"
   ]
  },
  {
   "cell_type": "code",
   "execution_count": 68,
   "id": "97b7b503",
   "metadata": {},
   "outputs": [],
   "source": [
    "green_data = data[data['Color'] == 'Green']"
   ]
  },
  {
   "cell_type": "code",
   "execution_count": 69,
   "id": "2d998321",
   "metadata": {},
   "outputs": [
    {
     "data": {
      "text/html": [
       "<div>\n",
       "<style scoped>\n",
       "    .dataframe tbody tr th:only-of-type {\n",
       "        vertical-align: middle;\n",
       "    }\n",
       "\n",
       "    .dataframe tbody tr th {\n",
       "        vertical-align: top;\n",
       "    }\n",
       "\n",
       "    .dataframe thead th {\n",
       "        text-align: right;\n",
       "    }\n",
       "</style>\n",
       "<table border=\"1\" class=\"dataframe\">\n",
       "  <thead>\n",
       "    <tr style=\"text-align: right;\">\n",
       "      <th></th>\n",
       "      <th>Cell number</th>\n",
       "      <th>Young's modulus</th>\n",
       "      <th>Color</th>\n",
       "    </tr>\n",
       "  </thead>\n",
       "  <tbody>\n",
       "    <tr>\n",
       "      <th>0</th>\n",
       "      <td>1</td>\n",
       "      <td>702,573.00</td>\n",
       "      <td>Green</td>\n",
       "    </tr>\n",
       "    <tr>\n",
       "      <th>1</th>\n",
       "      <td>2</td>\n",
       "      <td>350,811.00</td>\n",
       "      <td>Green</td>\n",
       "    </tr>\n",
       "    <tr>\n",
       "      <th>2</th>\n",
       "      <td>3</td>\n",
       "      <td>525,243.00</td>\n",
       "      <td>Green</td>\n",
       "    </tr>\n",
       "    <tr>\n",
       "      <th>3</th>\n",
       "      <td>4</td>\n",
       "      <td>363,032.00</td>\n",
       "      <td>Green</td>\n",
       "    </tr>\n",
       "    <tr>\n",
       "      <th>4</th>\n",
       "      <td>5</td>\n",
       "      <td>663,520.00</td>\n",
       "      <td>Green</td>\n",
       "    </tr>\n",
       "  </tbody>\n",
       "</table>\n",
       "</div>"
      ],
      "text/plain": [
       "   Cell number Young's modulus  Color\n",
       "0            1      702,573.00  Green\n",
       "1            2      350,811.00  Green\n",
       "2            3      525,243.00  Green\n",
       "3            4      363,032.00  Green\n",
       "4            5      663,520.00  Green"
      ]
     },
     "execution_count": 69,
     "metadata": {},
     "output_type": "execute_result"
    }
   ],
   "source": [
    "green_data.head()"
   ]
  },
  {
   "cell_type": "code",
   "execution_count": 70,
   "id": "552fb3e8",
   "metadata": {},
   "outputs": [],
   "source": [
    "red_data = data[data['Color'] == 'Red']"
   ]
  },
  {
   "cell_type": "code",
   "execution_count": 71,
   "id": "7bf4a1b0",
   "metadata": {},
   "outputs": [
    {
     "data": {
      "text/html": [
       "<div>\n",
       "<style scoped>\n",
       "    .dataframe tbody tr th:only-of-type {\n",
       "        vertical-align: middle;\n",
       "    }\n",
       "\n",
       "    .dataframe tbody tr th {\n",
       "        vertical-align: top;\n",
       "    }\n",
       "\n",
       "    .dataframe thead th {\n",
       "        text-align: right;\n",
       "    }\n",
       "</style>\n",
       "<table border=\"1\" class=\"dataframe\">\n",
       "  <thead>\n",
       "    <tr style=\"text-align: right;\">\n",
       "      <th></th>\n",
       "      <th>Cell number</th>\n",
       "      <th>Young's modulus</th>\n",
       "      <th>Color</th>\n",
       "    </tr>\n",
       "  </thead>\n",
       "  <tbody>\n",
       "    <tr>\n",
       "      <th>8</th>\n",
       "      <td>9</td>\n",
       "      <td>949,627.00</td>\n",
       "      <td>Red</td>\n",
       "    </tr>\n",
       "    <tr>\n",
       "      <th>9</th>\n",
       "      <td>10</td>\n",
       "      <td>845,313.00</td>\n",
       "      <td>Red</td>\n",
       "    </tr>\n",
       "    <tr>\n",
       "      <th>11</th>\n",
       "      <td>12</td>\n",
       "      <td>1,004.42</td>\n",
       "      <td>Red</td>\n",
       "    </tr>\n",
       "    <tr>\n",
       "      <th>12</th>\n",
       "      <td>13</td>\n",
       "      <td>848,391.00</td>\n",
       "      <td>Red</td>\n",
       "    </tr>\n",
       "    <tr>\n",
       "      <th>13</th>\n",
       "      <td>14</td>\n",
       "      <td>678,487.00</td>\n",
       "      <td>Red</td>\n",
       "    </tr>\n",
       "  </tbody>\n",
       "</table>\n",
       "</div>"
      ],
      "text/plain": [
       "    Cell number Young's modulus Color\n",
       "8             9      949,627.00   Red\n",
       "9            10      845,313.00   Red\n",
       "11           12        1,004.42   Red\n",
       "12           13      848,391.00   Red\n",
       "13           14      678,487.00   Red"
      ]
     },
     "execution_count": 71,
     "metadata": {},
     "output_type": "execute_result"
    }
   ],
   "source": [
    "red_data.head()"
   ]
  },
  {
   "cell_type": "code",
   "execution_count": 72,
   "id": "dca2df57",
   "metadata": {},
   "outputs": [],
   "source": [
    "red_data_values = []\n",
    "for i in list(red_data[\"Young's modulus\"]):\n",
    "    value = int(''.join(i.split('.')[0].split(',')))\n",
    "    if value > 100000:\n",
    "        red_data_values.append(value)\n",
    "    \n",
    "green_data_values = []\n",
    "for i in list(green_data[\"Young's modulus\"]):\n",
    "    value = int(''.join(i.split('.')[0].split(',')))\n",
    "    if value > 100000:\n",
    "        green_data_values.append(value)"
   ]
  },
  {
   "cell_type": "code",
   "execution_count": 73,
   "id": "28cc9542",
   "metadata": {},
   "outputs": [
    {
     "data": {
      "text/plain": [
       "[949627,\n",
       " 845313,\n",
       " 848391,\n",
       " 678487,\n",
       " 601345,\n",
       " 671634,\n",
       " 503397,\n",
       " 911614,\n",
       " 359476,\n",
       " 473973,\n",
       " 492927,\n",
       " 645616,\n",
       " 714993,\n",
       " 384980,\n",
       " 581461,\n",
       " 697668,\n",
       " 494730]"
      ]
     },
     "execution_count": 73,
     "metadata": {},
     "output_type": "execute_result"
    }
   ],
   "source": [
    "red_data_values"
   ]
  },
  {
   "cell_type": "code",
   "execution_count": 74,
   "id": "c595f6bd",
   "metadata": {},
   "outputs": [
    {
     "data": {
      "text/plain": [
       "[702573,\n",
       " 350811,\n",
       " 525243,\n",
       " 363032,\n",
       " 663520,\n",
       " 561261,\n",
       " 576960,\n",
       " 306768,\n",
       " 576581,\n",
       " 416516,\n",
       " 686270,\n",
       " 419087,\n",
       " 602829,\n",
       " 461374,\n",
       " 760732,\n",
       " 579099,\n",
       " 407855]"
      ]
     },
     "execution_count": 74,
     "metadata": {},
     "output_type": "execute_result"
    }
   ],
   "source": [
    "green_data_values"
   ]
  },
  {
   "cell_type": "code",
   "execution_count": 75,
   "id": "d847e0c7",
   "metadata": {},
   "outputs": [
    {
     "data": {
      "text/plain": [
       "Ttest_indResult(statistic=2.0592812127430813, pvalue=0.047681896378382986)"
      ]
     },
     "execution_count": 75,
     "metadata": {},
     "output_type": "execute_result"
    }
   ],
   "source": [
    "from scipy import stats\n",
    "\n",
    "stats.ttest_ind(red_data_values, green_data_values)"
   ]
  }
 ],
 "metadata": {
  "kernelspec": {
   "display_name": "Python 3 (ipykernel)",
   "language": "python",
   "name": "python3"
  },
  "language_info": {
   "codemirror_mode": {
    "name": "ipython",
    "version": 3
   },
   "file_extension": ".py",
   "mimetype": "text/x-python",
   "name": "python",
   "nbconvert_exporter": "python",
   "pygments_lexer": "ipython3",
   "version": "3.8.5"
  }
 },
 "nbformat": 4,
 "nbformat_minor": 5
}
