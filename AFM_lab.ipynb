{
 "cells": [
  {
   "cell_type": "code",
   "execution_count": 105,
   "id": "1348b95a",
   "metadata": {},
   "outputs": [],
   "source": [
    "import pandas as pd\n",
    "\n",
    "file = '/home/nkureev/Cells_for_AFM.tsv'\n",
    "data = pd.read_csv(file, sep='\\t')"
   ]
  },
  {
   "cell_type": "code",
   "execution_count": 106,
   "id": "c83b6497",
   "metadata": {},
   "outputs": [
    {
     "data": {
      "text/plain": [
       "44"
      ]
     },
     "execution_count": 106,
     "metadata": {},
     "output_type": "execute_result"
    }
   ],
   "source": [
    "len(data)"
   ]
  },
  {
   "cell_type": "code",
   "execution_count": 107,
   "id": "3a5d431d",
   "metadata": {},
   "outputs": [],
   "source": [
    "data = data.dropna()"
   ]
  },
  {
   "cell_type": "code",
   "execution_count": 108,
   "id": "e4d8f498",
   "metadata": {},
   "outputs": [
    {
     "data": {
      "text/plain": [
       "38"
      ]
     },
     "execution_count": 108,
     "metadata": {},
     "output_type": "execute_result"
    }
   ],
   "source": [
    "len(data)"
   ]
  },
  {
   "cell_type": "code",
   "execution_count": 109,
   "id": "97b7b503",
   "metadata": {},
   "outputs": [],
   "source": [
    "green_data = data[data['Color'] == 'Green']"
   ]
  },
  {
   "cell_type": "code",
   "execution_count": 110,
   "id": "2d998321",
   "metadata": {},
   "outputs": [
    {
     "data": {
      "text/html": [
       "<div>\n",
       "<style scoped>\n",
       "    .dataframe tbody tr th:only-of-type {\n",
       "        vertical-align: middle;\n",
       "    }\n",
       "\n",
       "    .dataframe tbody tr th {\n",
       "        vertical-align: top;\n",
       "    }\n",
       "\n",
       "    .dataframe thead th {\n",
       "        text-align: right;\n",
       "    }\n",
       "</style>\n",
       "<table border=\"1\" class=\"dataframe\">\n",
       "  <thead>\n",
       "    <tr style=\"text-align: right;\">\n",
       "      <th></th>\n",
       "      <th>Cell number</th>\n",
       "      <th>Young's modulus</th>\n",
       "      <th>Color</th>\n",
       "    </tr>\n",
       "  </thead>\n",
       "  <tbody>\n",
       "    <tr>\n",
       "      <th>0</th>\n",
       "      <td>1</td>\n",
       "      <td>702,573.00</td>\n",
       "      <td>Green</td>\n",
       "    </tr>\n",
       "    <tr>\n",
       "      <th>1</th>\n",
       "      <td>2</td>\n",
       "      <td>350,811.00</td>\n",
       "      <td>Green</td>\n",
       "    </tr>\n",
       "    <tr>\n",
       "      <th>2</th>\n",
       "      <td>3</td>\n",
       "      <td>525,243.00</td>\n",
       "      <td>Green</td>\n",
       "    </tr>\n",
       "    <tr>\n",
       "      <th>3</th>\n",
       "      <td>4</td>\n",
       "      <td>363,032.00</td>\n",
       "      <td>Green</td>\n",
       "    </tr>\n",
       "    <tr>\n",
       "      <th>4</th>\n",
       "      <td>5</td>\n",
       "      <td>663,520.00</td>\n",
       "      <td>Green</td>\n",
       "    </tr>\n",
       "  </tbody>\n",
       "</table>\n",
       "</div>"
      ],
      "text/plain": [
       "   Cell number Young's modulus  Color\n",
       "0            1      702,573.00  Green\n",
       "1            2      350,811.00  Green\n",
       "2            3      525,243.00  Green\n",
       "3            4      363,032.00  Green\n",
       "4            5      663,520.00  Green"
      ]
     },
     "execution_count": 110,
     "metadata": {},
     "output_type": "execute_result"
    }
   ],
   "source": [
    "green_data.head()"
   ]
  },
  {
   "cell_type": "code",
   "execution_count": 111,
   "id": "552fb3e8",
   "metadata": {},
   "outputs": [],
   "source": [
    "red_data = data[data['Color'] == 'Red']"
   ]
  },
  {
   "cell_type": "code",
   "execution_count": 112,
   "id": "7bf4a1b0",
   "metadata": {},
   "outputs": [
    {
     "data": {
      "text/html": [
       "<div>\n",
       "<style scoped>\n",
       "    .dataframe tbody tr th:only-of-type {\n",
       "        vertical-align: middle;\n",
       "    }\n",
       "\n",
       "    .dataframe tbody tr th {\n",
       "        vertical-align: top;\n",
       "    }\n",
       "\n",
       "    .dataframe thead th {\n",
       "        text-align: right;\n",
       "    }\n",
       "</style>\n",
       "<table border=\"1\" class=\"dataframe\">\n",
       "  <thead>\n",
       "    <tr style=\"text-align: right;\">\n",
       "      <th></th>\n",
       "      <th>Cell number</th>\n",
       "      <th>Young's modulus</th>\n",
       "      <th>Color</th>\n",
       "    </tr>\n",
       "  </thead>\n",
       "  <tbody>\n",
       "    <tr>\n",
       "      <th>8</th>\n",
       "      <td>9</td>\n",
       "      <td>949,627.00</td>\n",
       "      <td>Red</td>\n",
       "    </tr>\n",
       "    <tr>\n",
       "      <th>9</th>\n",
       "      <td>10</td>\n",
       "      <td>845,313.00</td>\n",
       "      <td>Red</td>\n",
       "    </tr>\n",
       "    <tr>\n",
       "      <th>11</th>\n",
       "      <td>12</td>\n",
       "      <td>1,004.42</td>\n",
       "      <td>Red</td>\n",
       "    </tr>\n",
       "    <tr>\n",
       "      <th>12</th>\n",
       "      <td>13</td>\n",
       "      <td>848,391.00</td>\n",
       "      <td>Red</td>\n",
       "    </tr>\n",
       "    <tr>\n",
       "      <th>13</th>\n",
       "      <td>14</td>\n",
       "      <td>678,487.00</td>\n",
       "      <td>Red</td>\n",
       "    </tr>\n",
       "  </tbody>\n",
       "</table>\n",
       "</div>"
      ],
      "text/plain": [
       "    Cell number Young's modulus Color\n",
       "8             9      949,627.00   Red\n",
       "9            10      845,313.00   Red\n",
       "11           12        1,004.42   Red\n",
       "12           13      848,391.00   Red\n",
       "13           14      678,487.00   Red"
      ]
     },
     "execution_count": 112,
     "metadata": {},
     "output_type": "execute_result"
    }
   ],
   "source": [
    "red_data.head()"
   ]
  },
  {
   "cell_type": "code",
   "execution_count": 120,
   "id": "dca2df57",
   "metadata": {},
   "outputs": [],
   "source": [
    "red_data_values = []\n",
    "for i in list(red_data[\"Young's modulus\"]):\n",
    "    value = int(''.join(i.split('.')[0].split(',')))\n",
    "    if value > 0:\n",
    "        red_data_values.append(value)\n",
    "    \n",
    "green_data_values = []\n",
    "for i in list(green_data[\"Young's modulus\"]):\n",
    "    value = int(''.join(i.split('.')[0].split(',')))\n",
    "    if value > 0:\n",
    "        green_data_values.append(value)"
   ]
  },
  {
   "cell_type": "code",
   "execution_count": 121,
   "id": "18c2e350",
   "metadata": {},
   "outputs": [
    {
     "data": {
      "text/plain": [
       "18"
      ]
     },
     "execution_count": 121,
     "metadata": {},
     "output_type": "execute_result"
    }
   ],
   "source": [
    "len(red_data_values)"
   ]
  },
  {
   "cell_type": "code",
   "execution_count": 115,
   "id": "dbb62f09",
   "metadata": {},
   "outputs": [
    {
     "data": {
      "text/plain": [
       "638566.5882352941"
      ]
     },
     "execution_count": 115,
     "metadata": {},
     "output_type": "execute_result"
    }
   ],
   "source": [
    "mean_red = sum(red_data_values) / len(red_data_values)\n",
    "mean_red"
   ]
  },
  {
   "cell_type": "code",
   "execution_count": 94,
   "id": "7e5beae9",
   "metadata": {},
   "outputs": [
    {
     "data": {
      "text/plain": [
       "31516282596.257355"
      ]
     },
     "execution_count": 94,
     "metadata": {},
     "output_type": "execute_result"
    }
   ],
   "source": [
    "sum(list([(x - mean_red)**2 for x in red_data_values])) / (len(red_data_values) - 1)"
   ]
  },
  {
   "cell_type": "code",
   "execution_count": 100,
   "id": "d5b0f2d0",
   "metadata": {},
   "outputs": [
    {
     "data": {
      "text/plain": [
       "29662383620.006924"
      ]
     },
     "execution_count": 100,
     "metadata": {},
     "output_type": "execute_result"
    }
   ],
   "source": [
    "import numpy as np\n",
    "\n",
    "np.var(red_data_values)"
   ]
  },
  {
   "cell_type": "code",
   "execution_count": 122,
   "id": "28cc9542",
   "metadata": {},
   "outputs": [
    {
     "data": {
      "text/plain": [
       "[949627,\n",
       " 845313,\n",
       " 1004,\n",
       " 848391,\n",
       " 678487,\n",
       " 601345,\n",
       " 671634,\n",
       " 503397,\n",
       " 911614,\n",
       " 359476,\n",
       " 473973,\n",
       " 492927,\n",
       " 645616,\n",
       " 714993,\n",
       " 384980,\n",
       " 581461,\n",
       " 697668,\n",
       " 494730]"
      ]
     },
     "execution_count": 122,
     "metadata": {},
     "output_type": "execute_result"
    }
   ],
   "source": [
    "red_data_values"
   ]
  },
  {
   "cell_type": "code",
   "execution_count": 123,
   "id": "4b3293ca",
   "metadata": {},
   "outputs": [
    {
     "data": {
      "text/plain": [
       "18"
      ]
     },
     "execution_count": 123,
     "metadata": {},
     "output_type": "execute_result"
    }
   ],
   "source": [
    "len(green_data_values)"
   ]
  },
  {
   "cell_type": "code",
   "execution_count": 88,
   "id": "e434a373",
   "metadata": {},
   "outputs": [
    {
     "data": {
      "text/plain": [
       "527088.8823529412"
      ]
     },
     "execution_count": 88,
     "metadata": {},
     "output_type": "execute_result"
    }
   ],
   "source": [
    "mean_green = sum(green_data_values) / len(green_data_values)\n",
    "mean_green"
   ]
  },
  {
   "cell_type": "code",
   "execution_count": 95,
   "id": "7bd9ff27",
   "metadata": {},
   "outputs": [
    {
     "data": {
      "text/plain": [
       "18302562113.73529"
      ]
     },
     "execution_count": 95,
     "metadata": {},
     "output_type": "execute_result"
    }
   ],
   "source": [
    "sum(list([(x - mean_green)**2 for x in green_data_values])) / (len(green_data_values) - 1)"
   ]
  },
  {
   "cell_type": "code",
   "execution_count": 101,
   "id": "77b9b932",
   "metadata": {},
   "outputs": [
    {
     "data": {
      "text/plain": [
       "17225940812.927338"
      ]
     },
     "execution_count": 101,
     "metadata": {},
     "output_type": "execute_result"
    }
   ],
   "source": [
    "import numpy as np\n",
    "\n",
    "np.var(green_data_values)"
   ]
  },
  {
   "cell_type": "code",
   "execution_count": 124,
   "id": "c595f6bd",
   "metadata": {},
   "outputs": [
    {
     "data": {
      "text/plain": [
       "[702573,\n",
       " 350811,\n",
       " 525243,\n",
       " 363032,\n",
       " 663520,\n",
       " 561261,\n",
       " 1688,\n",
       " 576960,\n",
       " 306768,\n",
       " 576581,\n",
       " 416516,\n",
       " 686270,\n",
       " 419087,\n",
       " 602829,\n",
       " 461374,\n",
       " 760732,\n",
       " 579099,\n",
       " 407855]"
      ]
     },
     "execution_count": 124,
     "metadata": {},
     "output_type": "execute_result"
    }
   ],
   "source": [
    "green_data_values"
   ]
  },
  {
   "cell_type": "code",
   "execution_count": 125,
   "id": "d847e0c7",
   "metadata": {},
   "outputs": [
    {
     "data": {
      "text/plain": [
       "Ttest_indResult(statistic=1.533305297553713, pvalue=0.13494962436231178)"
      ]
     },
     "execution_count": 125,
     "metadata": {},
     "output_type": "execute_result"
    }
   ],
   "source": [
    "from scipy import stats\n",
    "\n",
    "stats.ttest_ind(red_data_values, green_data_values, equal_var=False)"
   ]
  },
  {
   "cell_type": "code",
   "execution_count": 104,
   "id": "9c127963",
   "metadata": {},
   "outputs": [
    {
     "data": {
      "image/png": "[encoded data removed]",
      "text/plain": [
       "<Figure size 432x288 with 1 Axes>"
      ]
     },
     "metadata": {
      "needs_background": "light"
     },
     "output_type": "display_data"
    }
   ],
   "source": [
    "import matplotlib.pyplot as plt\n",
    "\n",
    "plt.boxplot([green_data_values, red_data_values], labels=['S, G2, M (green) cells', 'G1 (red) cells'])\n",
    "plt.ylabel(\"Young's modulus, Pa\")\n",
    "plt.show()"
   ]
  }
 ],
 "metadata": {
  "kernelspec": {
   "display_name": "Python 3 (ipykernel)",
   "language": "python",
   "name": "python3"
  },
  "language_info": {
   "codemirror_mode": {
    "name": "ipython",
    "version": 3
   },
   "file_extension": ".py",
   "mimetype": "text/x-python",
   "name": "python",
   "nbconvert_exporter": "python",
   "pygments_lexer": "ipython3",
   "version": "3.8.5"
  }
 },
 "nbformat": 4,
 "nbformat_minor": 5
}
